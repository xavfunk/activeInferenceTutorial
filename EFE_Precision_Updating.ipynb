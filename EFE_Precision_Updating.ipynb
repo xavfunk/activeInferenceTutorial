{
 "cells": [
  {
   "cell_type": "code",
   "execution_count": 14,
   "id": "c7a5615b",
   "metadata": {},
   "outputs": [],
   "source": [
    "# defining functions for EFE precision updating and resuls plotting\n",
    "\n",
    "def EFE_precision_updating(E_0, G_0, F_o, gamma_0, psi = 2, n_updates = 16):\n",
    "    # see page 20 in paper for explanation of these eq's\n",
    "    \n",
    "    gamma = gamma_0             # Initial expected free energy precision to be updated\n",
    "    beta_prior = 1/gamma        # Initial prior on expected free energy precision gamma, a rate parameter on a Gamma dist with shape param = 1\n",
    "    beta_posterior = beta_prior # Initial posterior on expected free energy precision gamma, a rate parameter on a Gamma dist\n",
    "    # Expected value of gamma is reciprocal of beta\n",
    "    \n",
    "    gamma_dopamine = np.zeros((n_updates))\n",
    "    policies_neural = np.zeros((len(G), n_updates))\n",
    "    \n",
    "    for ni in range(n_updates):# = 1:16 # number of variational updates (16)\n",
    "\n",
    "        # calculate prior and posterior over policies (see main text for \n",
    "        # explanation of equations) \n",
    "\n",
    "        pi_0 = np.exp(np.log(E) - gamma*G)/sum(np.exp(np.log(E) - gamma*G)); # prior over policies (softmax)\n",
    "\n",
    "        pi_posterior = np.exp(np.log(E) - gamma*G - F)/sum(np.exp(np.log(E) - gamma*G - F)); # posterior \n",
    "                                                                                 # over policies (softmax)\n",
    "        # calculate expected free energy precision \n",
    "        G_error = (pi_posterior - pi_0)@-G; # expected free energy prediction error\n",
    "\n",
    "        beta_update = beta_posterior - beta_prior + G_error; # change in beta:  \n",
    "                                                             # gradient of F with respect to gamma \n",
    "                                                             # (recall gamma = 1/beta)\n",
    "\n",
    "        beta_posterior = beta_posterior - beta_update/psi; # update posterior precision \n",
    "                                                       # estimate (with step size of psi = 2, which reduces \n",
    "                                                       # the magnitude of each update and can promote \n",
    "                                                       # stable convergence)\n",
    "\n",
    "        gamma = 1/beta_posterior; # update expected free energy precision # Expected value of gamma is reciprocal of beta\n",
    "\n",
    "\n",
    "        # simulate dopamine responses\n",
    "\n",
    "        n = ni;\n",
    "\n",
    "        gamma_dopamine[n] = gamma; # simulated neural encoding of precision\n",
    "                                     # (beta_posterior^-1) at each iteration of \n",
    "                                     # variational updating                                 \n",
    "\n",
    "        policies_neural[:, n] = pi_posterior; # neural encoding of posterior over policies at \n",
    "                                             # each iteration of variational updating\n",
    "\n",
    "    return gamma_dopamine, policies_neural\n",
    "\n",
    "def plot_EFE_updating(gamma_dopamine, policies_neural = None):\n",
    "    ## Show Results\n",
    "\n",
    "    gamma_dopamine_plot = np.hstack((np.ones((3, )),gamma_dopamine)) # include prior value\n",
    "\n",
    "    plt.figure()\n",
    "    plt.plot(gamma_dopamine_plot);\n",
    "    plt.ylim([np.min(gamma_dopamine_plot)-.05, np.max(gamma_dopamine_plot)+.05])\n",
    "    plt.title('Expected Free Energy Precision (Tonic Dopamine)');\n",
    "    plt.xlabel('Updates');\n",
    "    plt.ylabel('$\\gamma$');\n",
    "\n",
    "    plt.figure()\n",
    "    plt.plot(np.gradient(gamma_dopamine_plot),'r');\n",
    "    plt.ylim([np.min(np.gradient(gamma_dopamine_plot))-.01, np.max(np.gradient(gamma_dopamine_plot))+.01])\n",
    "    plt.title('Rate of Change in Precision (Phasic Dopamine)');\n",
    "    plt.xlabel('Updates');\n",
    "    plt.ylabel('$\\gamma$ gradient');\n",
    "    plt.show()\n",
    "    # uncomment if you want to printlay/plot firing rates encoding beliefs about each\n",
    "    \n",
    "    if policies_neural is not None:\n",
    "\n",
    "        # policy (columns = policies, rows = updates over time)\n",
    "        plt.clf()\n",
    "        plt.plot(policies_neural);\n",
    "        plt.show()\n",
    "        print('Firing rates encoding beliefs over policies:');\n",
    "        print(policies_neural.T);\n",
    "        print(' ');\n"
   ]
  },
  {
   "cell_type": "code",
   "execution_count": 34,
   "id": "b9543946",
   "metadata": {},
   "outputs": [
    {
     "name": "stdout",
     "output_type": "stream",
     "text": [
      " \n",
      "Final Policy Prior:\n",
      "[0.02214869 0.91136123 0.02219271 0.02214869 0.02214869]\n",
      " \n",
      "Final Policy Posterior:\n",
      "[5.43818445e-09 9.76227697e-01 2.37722873e-02 5.34117285e-09\n",
      " 5.34117285e-09]\n",
      " \n",
      "Final Policy Difference Vector:\n",
      "[-0.02214868  0.06486647  0.00157957 -0.02214868 -0.02214868]\n",
      " \n",
      "Negative Expected Free Energy:\n",
      "[-12.505   -9.51   -12.5034 -12.505  -12.505 ]\n",
      " \n",
      "Prior G Precision (Prior Gamma):\n",
      "1\n",
      " \n",
      "Posterior G Precision (Gamma):\n",
      "1.2411222533214157\n",
      " \n"
     ]
    },
    {
     "data": {
      "image/png": "[encoded data removed]",
      "text/plain": [
       "<Figure size 432x288 with 1 Axes>"
      ]
     },
     "metadata": {
      "needs_background": "light"
     },
     "output_type": "display_data"
    },
    {
     "data": {
      "image/png": "[encoded data removed]",
      "text/plain": [
       "<Figure size 432x288 with 1 Axes>"
      ]
     },
     "metadata": {
      "needs_background": "light"
     },
     "output_type": "display_data"
    },
    {
     "data": {
      "image/png": "[encoded data removed]",
      "text/plain": [
       "<Figure size 432x288 with 1 Axes>"
      ]
     },
     "metadata": {
      "needs_background": "light"
     },
     "output_type": "display_data"
    },
    {
     "name": "stdout",
     "output_type": "stream",
     "text": [
      "Firing rates encoding beliefs over policies:\n",
      "[[1.09218400e-08 9.52275038e-01 4.77249298e-02 1.07270057e-08\n",
      "  1.07270057e-08]\n",
      " [5.83400750e-09 9.74498390e-01 2.55015928e-02 5.72993483e-09\n",
      "  5.72993483e-09]\n",
      " [5.47683893e-09 9.76058816e-01 2.39411673e-02 5.37913778e-09\n",
      "  5.37913778e-09]\n",
      " [5.44211725e-09 9.76210514e-01 2.37894696e-02 5.34503550e-09\n",
      "  5.34503550e-09]\n",
      " [5.43858625e-09 9.76225941e-01 2.37740427e-02 5.34156748e-09\n",
      "  5.34156748e-09]\n",
      " [5.43822552e-09 9.76227517e-01 2.37724667e-02 5.34121319e-09\n",
      "  5.34121319e-09]\n",
      " [5.43818865e-09 9.76227678e-01 2.37723056e-02 5.34117698e-09\n",
      "  5.34117698e-09]\n",
      " [5.43818488e-09 9.76227695e-01 2.37722891e-02 5.34117327e-09\n",
      "  5.34117327e-09]\n",
      " [5.43818449e-09 9.76227696e-01 2.37722875e-02 5.34117290e-09\n",
      "  5.34117290e-09]\n",
      " [5.43818445e-09 9.76227697e-01 2.37722873e-02 5.34117286e-09\n",
      "  5.34117286e-09]\n",
      " [5.43818445e-09 9.76227697e-01 2.37722873e-02 5.34117285e-09\n",
      "  5.34117285e-09]\n",
      " [5.43818445e-09 9.76227697e-01 2.37722873e-02 5.34117285e-09\n",
      "  5.34117285e-09]\n",
      " [5.43818445e-09 9.76227697e-01 2.37722873e-02 5.34117285e-09\n",
      "  5.34117285e-09]\n",
      " [5.43818445e-09 9.76227697e-01 2.37722873e-02 5.34117285e-09\n",
      "  5.34117285e-09]\n",
      " [5.43818445e-09 9.76227697e-01 2.37722873e-02 5.34117285e-09\n",
      "  5.34117285e-09]\n",
      " [5.43818445e-09 9.76227697e-01 2.37722873e-02 5.34117285e-09\n",
      "  5.34117285e-09]]\n",
      " \n"
     ]
    }
   ],
   "source": [
    "## original adapted snippet, also includes the functions\n",
    "\n",
    "# Example code for simulated expected free energy precision (beta/gamma) updates\n",
    "# (associated with dopamine in the neural process theory)\n",
    "\n",
    "# Supplementary Code for: A Step-by-Step Tutorial on Active Inference Modelling and its \n",
    "# Application to Empirical Data\n",
    "\n",
    "# By: Ryan Smith, Karl J. Friston, Christopher J. Whyte\n",
    "# python adaption by Xaver Funk\n",
    "\n",
    "###########################################################################\n",
    "\n",
    "# EXPLANATIONS of terms see p. 18 in text\n",
    "\n",
    "# This script will reproduce the simulation results in Figure 9\n",
    "import numpy as np\n",
    "import matplotlib.pyplot as plt\n",
    "\n",
    "# Here you can set the number of policies and the distributions that\n",
    "# contribute to prior and posterior policy precision\n",
    "\n",
    "# inclusion or not of these terms E, F, gamma is a modeling decision\n",
    "E = np.ones(5)#[1 1 1 1 1]';                  # Set a fixed-form prior distribution \n",
    "                                              # over policies (habits)\n",
    "                            # reflecting number of times a policy has previously been chosen\n",
    "\n",
    "G = np.array([12.505, 9.51, 12.5034, 12.505, 12.505])#';     # Set an example expected \n",
    "                                              # expected free energy distribution over policies\n",
    "\n",
    "F = np.array([17.0207, 1.7321, 1.7321, 17.0387, 17.0387])#'; # Set an example variational \n",
    "                                              # free energy distribution over \n",
    "                                              # policies after a new observation\n",
    "        # the observation is consistent with the policies that got higher values\n",
    "\n",
    "\n",
    "gamma_0 = 1                 # Starting expected free energy precision value\n",
    "psi = 2                     # Step size parameter (promotes stable convergence) \n",
    "n_updates = 16\n",
    "\n",
    "gamma_dopamine = np.zeros((n_updates))\n",
    "policies_neural = np.zeros((len(G), n_updates))\n",
    "\n",
    "def EFE_precision_updating(E_0, G_0, F_o, gamma_0, psi = 2, n_updates = 16):\n",
    "    # see page 20 in paper for explanation of these eq's\n",
    "    \n",
    "    gamma = gamma_0             # Initial expected free energy precision to be updated\n",
    "    beta_prior = 1/gamma        # Initial prior on expected free energy precision gamma, a rate parameter on a Gamma dist with shape param = 1\n",
    "    beta_posterior = beta_prior # Initial posterior on expected free energy precision gamma, a rate parameter on a Gamma dist\n",
    "    # Expected value of gamma is reciprocal of beta\n",
    "    \n",
    "    gamma_dopamine = np.zeros((n_updates))\n",
    "    policies_neural = np.zeros((len(G), n_updates))\n",
    "    \n",
    "    for ni in range(n_updates):# = 1:16 # number of variational updates (16)\n",
    "\n",
    "        # calculate prior and posterior over policies (see main text for \n",
    "        # explanation of equations) \n",
    "\n",
    "        pi_0 = np.exp(np.log(E) - gamma*G)/sum(np.exp(np.log(E) - gamma*G)); # prior over policies (softmax)\n",
    "\n",
    "        pi_posterior = np.exp(np.log(E) - gamma*G - F)/sum(np.exp(np.log(E) - gamma*G - F)); # posterior \n",
    "                                                                                 # over policies (softmax)\n",
    "        # calculate expected free energy precision \n",
    "        G_error = (pi_posterior - pi_0)@-G; # expected free energy prediction error\n",
    "\n",
    "        beta_update = beta_posterior - beta_prior + G_error; # change in beta:  \n",
    "                                                             # gradient of F with respect to gamma \n",
    "                                                             # (recall gamma = 1/beta)\n",
    "\n",
    "        beta_posterior = beta_posterior - beta_update/psi; # update posterior precision \n",
    "                                                       # estimate (with step size of psi = 2, which reduces \n",
    "                                                       # the magnitude of each update and can promote \n",
    "                                                       # stable convergence)\n",
    "\n",
    "        gamma = 1/beta_posterior; # update expected free energy precision # Expected value of gamma is reciprocal of beta\n",
    "\n",
    "\n",
    "        # simulate dopamine responses\n",
    "\n",
    "        n = ni;\n",
    "\n",
    "        gamma_dopamine[n] = gamma; # simulated neural encoding of precision\n",
    "                                     # (beta_posterior^-1) at each iteration of \n",
    "                                     # variational updating                                 \n",
    "\n",
    "        policies_neural[:, n] = pi_posterior; # neural encoding of posterior over policies at \n",
    "                                             # each iteration of variational updating\n",
    "\n",
    "            \n",
    "    print(' ');\n",
    "    print('Final Policy Prior:');\n",
    "    print(pi_0);\n",
    "    print(' ');\n",
    "    print('Final Policy Posterior:');\n",
    "    print(pi_posterior);\n",
    "    print(' ');\n",
    "    print('Final Policy Difference Vector:');\n",
    "    print(pi_posterior-pi_0);\n",
    "    print(' ');\n",
    "    print('Negative Expected Free Energy:');\n",
    "    print(-G);\n",
    "    print(' ');\n",
    "    print('Prior G Precision (Prior Gamma):');\n",
    "    print(gamma_0);\n",
    "    print(' ');\n",
    "    print('Posterior G Precision (Gamma):');\n",
    "    print(gamma);\n",
    "    print(' ');\n",
    "    \n",
    "    return gamma_dopamine, policies_neural\n",
    "\n",
    "gamma_dopamine, policies_neural = EFE_precision_updating(E, G, F, gamma_0)\n",
    "    \n",
    "def plot_EFE_updating(gamma_dopamine, policies_neural = None):\n",
    "    ## Show Results\n",
    "\n",
    "    gamma_dopamine_plot = np.hstack((np.ones((3, )),gamma_dopamine)) # include prior value\n",
    "\n",
    "    plt.figure()\n",
    "    plt.plot(gamma_dopamine_plot);\n",
    "    plt.ylim([np.min(gamma_dopamine_plot)-.05, np.max(gamma_dopamine_plot)+.05])\n",
    "    plt.title('Expected Free Energy Precision (Tonic Dopamine)');\n",
    "    plt.xlabel('Updates');\n",
    "    plt.ylabel('$\\gamma$');\n",
    "\n",
    "    plt.figure()\n",
    "    plt.plot(np.gradient(gamma_dopamine_plot),'r');\n",
    "    plt.ylim([np.min(np.gradient(gamma_dopamine_plot))-.01, np.max(np.gradient(gamma_dopamine_plot))+.01])\n",
    "    plt.title('Rate of Change in Precision (Phasic Dopamine)');\n",
    "    plt.xlabel('Updates');\n",
    "    plt.ylabel('$\\gamma$ gradient');\n",
    "    plt.show()\n",
    "    # uncomment if you want to printlay/plot firing rates encoding beliefs about each\n",
    "    \n",
    "    if policies_neural is not None:\n",
    "\n",
    "        # policy (columns = policies, rows = updates over time)\n",
    "        plt.clf()\n",
    "        plt.plot(policies_neural);\n",
    "        plt.show()\n",
    "        print('Firing rates encoding beliefs over policies:');\n",
    "        print(policies_neural.T);\n",
    "        print(' ');\n",
    "\n",
    "plot_EFE_updating(gamma_dopamine, policies_neural)"
   ]
  },
  {
   "cell_type": "code",
   "execution_count": 37,
   "id": "5d89a74d",
   "metadata": {},
   "outputs": [
    {
     "name": "stdout",
     "output_type": "stream",
     "text": [
      " \n",
      "Final Policy Prior:\n",
      "[0.7566258 0.2433742]\n",
      " \n",
      "Final Policy Posterior:\n",
      "[1.74185273e-08 9.99999983e-01]\n",
      " \n",
      "Final Policy Difference Vector:\n",
      "[-0.75662578  0.75662578]\n",
      " \n",
      "Negative Expected Free Energy:\n",
      "[-1 -9]\n",
      " \n",
      "Prior G Precision (Prior Gamma):\n",
      "1\n",
      " \n",
      "Posterior G Precision (Gamma):\n",
      "0.14178354460594456\n",
      " \n"
     ]
    },
    {
     "data": {
      "image/png": "[encoded data removed]",
      "text/plain": [
       "<Figure size 432x288 with 1 Axes>"
      ]
     },
     "metadata": {
      "needs_background": "light"
     },
     "output_type": "display_data"
    },
    {
     "data": {
      "image/png": "[encoded data removed]",
      "text/plain": [
       "<Figure size 432x288 with 1 Axes>"
      ]
     },
     "metadata": {
      "needs_background": "light"
     },
     "output_type": "display_data"
    },
    {
     "data": {
      "image/png": "[encoded data removed]",
      "text/plain": [
       "<Figure size 432x288 with 1 Axes>"
      ]
     },
     "metadata": {
      "needs_background": "light"
     },
     "output_type": "display_data"
    },
    {
     "name": "stdout",
     "output_type": "stream",
     "text": [
      "Firing rates encoding beliefs over policies:\n",
      "[[1.67014218e-05 9.99983299e-01]\n",
      " [2.77633432e-08 9.99999972e-01]\n",
      " [1.98372996e-08 9.99999980e-01]\n",
      " [1.82234162e-08 9.99999982e-01]\n",
      " [1.77113971e-08 9.99999982e-01]\n",
      " [1.75283279e-08 9.99999982e-01]\n",
      " [1.74601414e-08 9.99999983e-01]\n",
      " [1.74343609e-08 9.99999983e-01]\n",
      " [1.74245584e-08 9.99999983e-01]\n",
      " [1.74208232e-08 9.99999983e-01]\n",
      " [1.74193988e-08 9.99999983e-01]\n",
      " [1.74188554e-08 9.99999983e-01]\n",
      " [1.74186481e-08 9.99999983e-01]\n",
      " [1.74185690e-08 9.99999983e-01]\n",
      " [1.74185388e-08 9.99999983e-01]\n",
      " [1.74185273e-08 9.99999983e-01]]\n",
      " \n"
     ]
    }
   ],
   "source": [
    "import numpy as np\n",
    "import matplotlib.pyplot as plt\n",
    "\n",
    "# neat for playing around, this uses the functions defined above\n",
    "\n",
    "# Here you can set the number of policies and the distributions that\n",
    "# contribute to prior and posterior policy precision\n",
    "\n",
    "# inclusion or not of these terms E, F, gamma is a modeling decision\n",
    "E = np.ones(2)#[1 1 1 1 1]';                  # Set a fixed-form prior distribution \n",
    "                                              # over policies (habits)\n",
    "                            # reflecting number of times a policy has previously been chosen\n",
    "\n",
    "G = np.array([1,9])#';     # Set an example expected \n",
    "                                              # expected free energy distribution over policies\n",
    "\n",
    "F = np.array([20,1])#'; # Set an example variational \n",
    "                                              # free energy distribution over \n",
    "                                              # policies after a new observation\n",
    "        # the observation is consistent with the policies that got higher values\n",
    "\n",
    "\n",
    "gamma_0 = 1                 # Starting expected free energy precision value\n",
    "psi = 2                     # Step size parameter (promotes stable convergence) \n",
    "n_updates = 16\n",
    "\n",
    "gamma_dopamine = np.zeros((n_updates))\n",
    "policies_neural = np.zeros((len(G), n_updates))\n",
    "\n",
    "# do updating\n",
    "gamma_dopamine, policies_neural = EFE_precision_updating(E, G, F, gamma_0, psi, n_updates)\n",
    "# do plotting\n",
    "plot_EFE_updating(gamma_dopamine, policies_neural)"
   ]
  },
  {
   "cell_type": "code",
   "execution_count": 29,
   "id": "49b8c962",
   "metadata": {},
   "outputs": [],
   "source": [
    "# reproduced from equations\n",
    "\n",
    "from scipy.special import softmax\n",
    "import numpy as np\n",
    "\n",
    "E = np.ones(5)#np.array([3, 4, 5, 1, 1]) # prior over policies\n",
    "G = np.array([12.505, 9.51, 12.5034, 12.505, 12.505])#';     # Set an example expected \n",
    "F = np.array([17.0207, 1.7321, 1.7321, 17.0387, 17.0387])#'; # Set an example variational \n",
    "\n",
    "#G = np.array([3, 4, 5, 1, 1]) # expected free energy\n",
    "#F = np.array([5, 11, 2, 8, 1]) # free energy on new observations\n",
    "\n",
    "beta_0 = 1\n",
    "gamma = 1/beta_0\n",
    "psi = 2\n",
    "n = 16\n",
    "beta = beta_0\n",
    "\n",
    "gamma_dopamine = np.zeros((n))\n",
    "policies_neural = np.zeros((len(G), n))\n",
    "\n",
    "for i in range(n):\n",
    "    \n",
    "    pi_0 = softmax(np.log(E) - gamma * G) # prior over policies\n",
    "    pi = softmax(np.log(E) - F - gamma * G) # posterior over policies\n",
    "    G_err = (pi - pi_0) @ - G # G prediction error\n",
    "    beta_up = beta - beta_0 + G_err # beta update term: grdient of F wrt gamma\n",
    "    beta = beta - beta_up/psi # udate beta \n",
    "    gamma = 1/beta # update gamma\n",
    "\n",
    "    gamma_dopamine[i] = gamma\n",
    "    policies_neural[:, 1] = pi"
   ]
  },
  {
   "cell_type": "code",
   "execution_count": 30,
   "id": "7fa1edeb",
   "metadata": {},
   "outputs": [
    {
     "data": {
      "text/plain": [
       "[<matplotlib.lines.Line2D at 0x7f75f10f8ee0>]"
      ]
     },
     "execution_count": 30,
     "metadata": {},
     "output_type": "execute_result"
    },
    {
     "data": {
      "image/png": "[encoded data removed]",
      "text/plain": [
       "<Figure size 432x288 with 1 Axes>"
      ]
     },
     "metadata": {
      "needs_background": "light"
     },
     "output_type": "display_data"
    }
   ],
   "source": [
    "import matplotlib.pyplot as plt\n",
    "plt.plot(gamma_dopamine)"
   ]
  }
 ],
 "metadata": {
  "kernelspec": {
   "display_name": "Python 3 (ipykernel)",
   "language": "python",
   "name": "python3"
  },
  "language_info": {
   "codemirror_mode": {
    "name": "ipython",
    "version": 3
   },
   "file_extension": ".py",
   "mimetype": "text/x-python",
   "name": "python",
   "nbconvert_exporter": "python",
   "pygments_lexer": "ipython3",
   "version": "3.9.7"
  }
 },
 "nbformat": 4,
 "nbformat_minor": 5
}
