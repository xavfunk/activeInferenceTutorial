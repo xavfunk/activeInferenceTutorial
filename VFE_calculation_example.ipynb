{
 "cells": [
  {
   "cell_type": "code",
   "execution_count": 2,
   "id": "ff217908",
   "metadata": {},
   "outputs": [],
   "source": [
    "import numpy as np"
   ]
  },
  {
   "cell_type": "code",
   "execution_count": 9,
   "id": "099249e7",
   "metadata": {},
   "outputs": [
    {
     "data": {
      "text/plain": [
       "0.916290731874155"
      ]
     },
     "execution_count": 9,
     "metadata": {},
     "output_type": "execute_result"
    }
   ],
   "source": [
    "# from figure 3\n",
    "qs_0 = np.array([.5, .5])\n",
    "pos = np.array([.4, .1])\n",
    "\n",
    "F = np.sum(qs_0 * np.log(qs_0/pos))\n",
    "F"
   ]
  },
  {
   "cell_type": "code",
   "execution_count": 4,
   "id": "6871febd",
   "metadata": {},
   "outputs": [
    {
     "data": {
      "text/plain": [
       "array([0.22314355, 1.60943791])"
      ]
     },
     "execution_count": 4,
     "metadata": {},
     "output_type": "execute_result"
    }
   ],
   "source": [
    "np.log(qs_0/pos)"
   ]
  },
  {
   "cell_type": "code",
   "execution_count": 13,
   "id": "e535e81f",
   "metadata": {},
   "outputs": [
    {
     "data": {
      "text/plain": [
       "0.5"
      ]
     },
     "execution_count": 13,
     "metadata": {},
     "output_type": "execute_result"
    }
   ],
   "source": [
    "# from VFE_calclation_example.m\n",
    "\n",
    "true_observation = np.array([1,0])\n",
    "\n",
    "# generative model\n",
    "prior = np.array([.5, .5]) # p(s)\n",
    "\n",
    "likelihood = np.array([[.8, .2],  # p(o|s)\n",
    "                       [.2, .8]]) # colums: states, rows: observations\n",
    "\n",
    "likelihood_of_observation = likelihood @ true_observation\n",
    "\n",
    "joint = prior * likelihood_of_observation # p(o,s)\n",
    "\n",
    "marginal = np.sum(joint) # p(o)"
   ]
  },
  {
   "cell_type": "code",
   "execution_count": 16,
   "id": "9778a353",
   "metadata": {},
   "outputs": [
    {
     "data": {
      "text/plain": [
       "array([0.4, 0.1])"
      ]
     },
     "execution_count": 16,
     "metadata": {},
     "output_type": "execute_result"
    }
   ],
   "source": [
    "# exact posterior via Bayes theorem\n",
    "# often hard to compute due to the marginal\n",
    "\n",
    "posterior = joint / marginal # posterior given true observation p(s|o)\n"
   ]
  },
  {
   "cell_type": "code",
   "execution_count": 20,
   "id": "3c910a93",
   "metadata": {},
   "outputs": [
    {
     "name": "stdout",
     "output_type": "stream",
     "text": [
      "initial F: 0.916290731874155\n",
      "minimized F: 0.6931471805599453\n"
     ]
    }
   ],
   "source": [
    "# Approximate/variational inference with approximate posterior q\n",
    "\n",
    "initial_q = prior # set initial approximate posterior to prior\n",
    "initial_F = np.sum(initial_q * np.log(initial_q/joint))\n",
    "print(f\"initial F: {initial_F}\")\n",
    "\n",
    "optimized_q = posterior # lets say we optimized\n",
    "minimized_F = np.sum(optimized_q * np.log(optimized_q/joint))\n",
    "print(f\"minimized F: {minimized_F}\")"
   ]
  }
 ],
 "metadata": {
  "kernelspec": {
   "display_name": "Python 3 (ipykernel)",
   "language": "python",
   "name": "python3"
  },
  "language_info": {
   "codemirror_mode": {
    "name": "ipython",
    "version": 3
   },
   "file_extension": ".py",
   "mimetype": "text/x-python",
   "name": "python",
   "nbconvert_exporter": "python",
   "pygments_lexer": "ipython3",
   "version": "3.9.7"
  }
 },
 "nbformat": 4,
 "nbformat_minor": 5
}
