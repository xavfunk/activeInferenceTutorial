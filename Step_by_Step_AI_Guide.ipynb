{
 "cells": [
  {
   "cell_type": "code",
   "execution_count": 6,
   "id": "43be28e5",
   "metadata": {},
   "outputs": [],
   "source": [
    "import numpy as np\n",
    "from sklearn.utils import Bunch"
   ]
  },
  {
   "cell_type": "markdown",
   "id": "e7603b52",
   "metadata": {},
   "source": [
    "## 1. Set up model structure\n",
    "\n",
    "capital vs lowercase letter convention: capital refers to generative process; lowercase to learned generative model. This is only done when we simulate learning instead of only inference. Because simulating learning, we need to seperate the generative process from the generative model. Otherwise, we can take D = d A = a etc."
   ]
  },
  {
   "cell_type": "code",
   "execution_count": null,
   "id": "6511a90a",
   "metadata": {},
   "outputs": [],
   "source": [
    "# number of time points or epochs within a trial: T\n",
    "T = 3\n",
    "\n",
    "## priors about initial states: D and d\n",
    "# two state factors (possible hidden states): context and behavior\n",
    "# D = initial state probs in generative process\n",
    "\n",
    "D = Bunch()\n",
    "\n",
    "# left slot machine is more likely to win\n",
    "D.context = n.array([1, 0]) # left better, right better\n",
    "\n",
    "# agent always starts in 'start' state\n",
    "D.behavior = np.array([1, 0, 0, 0]) # start, hint, choose left, choose right\n",
    "\n",
    "# d = prior beliefs about initial states in generative model - are to be learned\n",
    "\n",
    "d = Bunch()\n",
    "d.context = np.array([.25, .25]) # low confidence that slots are equally likely\n",
    "d.behavior = np.array([1, 0, 0, 0]) # expects with certainty to be in 'start' state\n",
    "\n",
    "\n",
    "## State-outcome mappings and beliefs: A and a\n",
    "## CONTINUE HERE"
   ]
  }
 ],
 "metadata": {
  "kernelspec": {
   "display_name": "Python 3",
   "language": "python",
   "name": "python3"
  },
  "language_info": {
   "codemirror_mode": {
    "name": "ipython",
    "version": 3
   },
   "file_extension": ".py",
   "mimetype": "text/x-python",
   "name": "python",
   "nbconvert_exporter": "python",
   "pygments_lexer": "ipython3",
   "version": "3.7.4"
  }
 },
 "nbformat": 4,
 "nbformat_minor": 5
}
