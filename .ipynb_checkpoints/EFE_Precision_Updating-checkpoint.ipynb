{
 "cells": [
  {
   "cell_type": "code",
   "execution_count": 6,
   "id": "e3a0ad03",
   "metadata": {},
   "outputs": [
    {
     "data": {
      "text/plain": [
       "0.9999999999999998"
      ]
     },
     "execution_count": 6,
     "metadata": {},
     "output_type": "execute_result"
    }
   ],
   "source": [
    "pi_0\n",
    "np.sum(pi_posterior)"
   ]
  },
  {
   "cell_type": "code",
   "execution_count": 5,
   "id": "4c25534a",
   "metadata": {},
   "outputs": [
    {
     "name": "stdout",
     "output_type": "stream",
     "text": [
      "[1. 1. 1. 1. 1.] \n",
      " [12.505   9.51   12.5034 12.505  12.505 ] \n",
      " [0.11804565 0.52772293 0.11814012 0.11804565 0.11804565] 1.0\n"
     ]
    }
   ],
   "source": [
    "E = np.ones(5)#[1 1 1 1 1]';                  # Set a fixed-form prior distribution \n",
    "G = np.array([12.505, 9.51, 12.5034, 12.505, 12.505])#';     # Set an example expected \n",
    "gamma_0 = 0.5#1                 # Starting expected free energy precision value\n",
    "gamma = gamma_0             # Initial expected free energy precision to be updated\n",
    "\n",
    "pi_0 = np.exp(np.log(E) - gamma*G)/sum(np.exp(np.log(E) - gamma*G)); # prior over policies (softmax)\n",
    "\n",
    "print(E, '\\n', G, '\\n', pi_0, np.sum(pi_0))"
   ]
  },
  {
   "cell_type": "code",
   "execution_count": 16,
   "id": "20c694dd",
   "metadata": {},
   "outputs": [
    {
     "name": "stdout",
     "output_type": "stream",
     "text": [
      "[1. 1. 5. 1. 1.] \n",
      " [12.505   9.51   12.5034 12.505  12.505 ] \n",
      " [0.03572275 0.713932   0.17889976 0.03572275 0.03572275] 0.9999999999999996\n"
     ]
    }
   ],
   "source": [
    "E = np.array([1.0, 1.0, 5, 1.0, 1.0])                  # Set a fixed-form prior distribution \n",
    "G = np.array([12.505, 9.51, 12.5034, 12.505, 12.505])#';     # Set an example expected \n",
    "gamma_0 = 1#1                 # Starting expected free energy precision value\n",
    "gamma = gamma_0             # Initial expected free energy precision to be updated\n",
    "\n",
    "pi_0 = np.exp(np.log(E) - gamma*G)/sum(np.exp(np.log(E) - gamma*G)); # prior over policies (softmax)\n",
    "\n",
    "print(E, '\\n', G, '\\n', pi_0, np.sum(pi_0))"
   ]
  },
  {
   "cell_type": "code",
   "execution_count": 7,
   "id": "f399f398",
   "metadata": {},
   "outputs": [
    {
     "name": "stdout",
     "output_type": "stream",
     "text": [
      "[1. 1. 1. 1. 1.] \n",
      " [12.505   9.51   12.5034 12.505  12.505 ] \n",
      " [0.11804565 0.52772293 0.11814012 0.11804565 0.11804565] \n",
      " [4.18942932e-08 8.17081676e-01 1.82918200e-01 4.11469423e-08\n",
      " 4.11469423e-08] 1.0\n"
     ]
    }
   ],
   "source": [
    "E = np.ones(5)#[1 1 1 1 1]';                  # Set a fixed-form prior distribution \n",
    "G = np.array([12.505, 9.51, 12.5034, 12.505, 12.505])#';     # Set an example expected \n",
    "gamma_0 = 0.5#1                 # Starting expected free energy precision value\n",
    "gamma = gamma_0             # Initial expected free energy precision to be updated\n",
    "F = np.array([17.0207, 1.7321, 1.7321, 17.0387, 17.0387])#'; # Set an example variational \n",
    "pi_posterior = np.exp(np.log(E) - gamma*G - F)/sum(np.exp(np.log(E) - gamma*G - F)); # posterior \n",
    "\n",
    "pi_0 = np.exp(np.log(E) - gamma*G)/sum(np.exp(np.log(E) - gamma*G)); # prior over policies (softmax)\n",
    "\n",
    "print(E, '\\n', G, '\\n', pi_0, '\\n', pi_posterior, sum(pi_posterior))"
   ]
  },
  {
   "cell_type": "code",
   "execution_count": 21,
   "id": "18187c65",
   "metadata": {},
   "outputs": [
    {
     "data": {
      "text/plain": [
       "array([0.        , 0.        , 1.60943791, 0.        , 0.        ])"
      ]
     },
     "execution_count": 21,
     "metadata": {},
     "output_type": "execute_result"
    }
   ],
   "source": [
    "E = np.array([1.0, 1.0, 5, 1.0, 1.0])                  # Set a fixed-form prior distribution \n",
    "np.log(E)"
   ]
  },
  {
   "cell_type": "code",
   "execution_count": 9,
   "id": "1ee49e1f",
   "metadata": {},
   "outputs": [
    {
     "data": {
      "text/plain": [
       "0.19427760051529064"
      ]
     },
     "execution_count": 9,
     "metadata": {},
     "output_type": "execute_result"
    }
   ],
   "source": [
    "G_error"
   ]
  },
  {
   "cell_type": "code",
   "execution_count": 12,
   "id": "973bdb6c",
   "metadata": {},
   "outputs": [
    {
     "data": {
      "text/plain": [
       "array([[1.09218400e-08, 5.83400750e-09, 5.47683893e-09, 5.44211725e-09,\n",
       "        5.43858625e-09, 5.43822552e-09, 5.43818865e-09, 5.43818488e-09,\n",
       "        5.43818449e-09, 5.43818445e-09, 5.43818445e-09, 5.43818445e-09,\n",
       "        5.43818445e-09, 5.43818445e-09, 5.43818445e-09, 5.43818445e-09],\n",
       "       [9.52275038e-01, 9.74498390e-01, 9.76058816e-01, 9.76210514e-01,\n",
       "        9.76225941e-01, 9.76227517e-01, 9.76227678e-01, 9.76227695e-01,\n",
       "        9.76227696e-01, 9.76227697e-01, 9.76227697e-01, 9.76227697e-01,\n",
       "        9.76227697e-01, 9.76227697e-01, 9.76227697e-01, 9.76227697e-01],\n",
       "       [4.77249298e-02, 2.55015928e-02, 2.39411673e-02, 2.37894696e-02,\n",
       "        2.37740427e-02, 2.37724667e-02, 2.37723056e-02, 2.37722891e-02,\n",
       "        2.37722875e-02, 2.37722873e-02, 2.37722873e-02, 2.37722873e-02,\n",
       "        2.37722873e-02, 2.37722873e-02, 2.37722873e-02, 2.37722873e-02],\n",
       "       [1.07270057e-08, 5.72993483e-09, 5.37913778e-09, 5.34503550e-09,\n",
       "        5.34156748e-09, 5.34121319e-09, 5.34117698e-09, 5.34117327e-09,\n",
       "        5.34117290e-09, 5.34117286e-09, 5.34117285e-09, 5.34117285e-09,\n",
       "        5.34117285e-09, 5.34117285e-09, 5.34117285e-09, 5.34117285e-09],\n",
       "       [1.07270057e-08, 5.72993483e-09, 5.37913778e-09, 5.34503550e-09,\n",
       "        5.34156748e-09, 5.34121319e-09, 5.34117698e-09, 5.34117327e-09,\n",
       "        5.34117290e-09, 5.34117286e-09, 5.34117285e-09, 5.34117285e-09,\n",
       "        5.34117285e-09, 5.34117285e-09, 5.34117285e-09, 5.34117285e-09]])"
      ]
     },
     "execution_count": 12,
     "metadata": {},
     "output_type": "execute_result"
    }
   ],
   "source": [
    "gamma_dopamine\n",
    "policies_neural"
   ]
  },
  {
   "cell_type": "code",
   "execution_count": 20,
   "id": "b9543946",
   "metadata": {},
   "outputs": [
    {
     "name": "stdout",
     "output_type": "stream",
     "text": [
      " \n",
      "Final Policy Prior:\n",
      "[0.02214869 0.91136123 0.02219271 0.02214869 0.02214869]\n",
      " \n",
      "Final Policy Posterior:\n",
      "[5.43818445e-09 9.76227697e-01 2.37722873e-02 5.34117285e-09\n",
      " 5.34117285e-09]\n",
      " \n",
      "Final Policy Difference Vector:\n",
      "[-0.02214868  0.06486647  0.00157957 -0.02214868 -0.02214868]\n",
      " \n",
      "Negative Expected Free Energy:\n",
      "[-12.505   -9.51   -12.5034 -12.505  -12.505 ]\n",
      " \n",
      "Prior G Precision (Prior Gamma):\n",
      "1\n",
      " \n",
      "Posterior G Precision (Gamma):\n",
      "1.2411222533214157\n",
      " \n"
     ]
    },
    {
     "data": {
      "image/png": "[encoded data removed]",
      "text/plain": [
       "<Figure size 432x288 with 1 Axes>"
      ]
     },
     "metadata": {
      "needs_background": "light"
     },
     "output_type": "display_data"
    },
    {
     "data": {
      "image/png": "[encoded data removed]",
      "text/plain": [
       "<Figure size 432x288 with 1 Axes>"
      ]
     },
     "metadata": {
      "needs_background": "light"
     },
     "output_type": "display_data"
    },
    {
     "data": {
      "image/png": "[encoded data removed]",
      "text/plain": [
       "<Figure size 432x288 with 1 Axes>"
      ]
     },
     "metadata": {
      "needs_background": "light"
     },
     "output_type": "display_data"
    },
    {
     "name": "stdout",
     "output_type": "stream",
     "text": [
      "Firing rates encoding beliefs over policies:\n",
      "[[1.09218400e-08 9.52275038e-01 4.77249298e-02 1.07270057e-08\n",
      "  1.07270057e-08]\n",
      " [5.83400750e-09 9.74498390e-01 2.55015928e-02 5.72993483e-09\n",
      "  5.72993483e-09]\n",
      " [5.47683893e-09 9.76058816e-01 2.39411673e-02 5.37913778e-09\n",
      "  5.37913778e-09]\n",
      " [5.44211725e-09 9.76210514e-01 2.37894696e-02 5.34503550e-09\n",
      "  5.34503550e-09]\n",
      " [5.43858625e-09 9.76225941e-01 2.37740427e-02 5.34156748e-09\n",
      "  5.34156748e-09]\n",
      " [5.43822552e-09 9.76227517e-01 2.37724667e-02 5.34121319e-09\n",
      "  5.34121319e-09]\n",
      " [5.43818865e-09 9.76227678e-01 2.37723056e-02 5.34117698e-09\n",
      "  5.34117698e-09]\n",
      " [5.43818488e-09 9.76227695e-01 2.37722891e-02 5.34117327e-09\n",
      "  5.34117327e-09]\n",
      " [5.43818449e-09 9.76227696e-01 2.37722875e-02 5.34117290e-09\n",
      "  5.34117290e-09]\n",
      " [5.43818445e-09 9.76227697e-01 2.37722873e-02 5.34117286e-09\n",
      "  5.34117286e-09]\n",
      " [5.43818445e-09 9.76227697e-01 2.37722873e-02 5.34117285e-09\n",
      "  5.34117285e-09]\n",
      " [5.43818445e-09 9.76227697e-01 2.37722873e-02 5.34117285e-09\n",
      "  5.34117285e-09]\n",
      " [5.43818445e-09 9.76227697e-01 2.37722873e-02 5.34117285e-09\n",
      "  5.34117285e-09]\n",
      " [5.43818445e-09 9.76227697e-01 2.37722873e-02 5.34117285e-09\n",
      "  5.34117285e-09]\n",
      " [5.43818445e-09 9.76227697e-01 2.37722873e-02 5.34117285e-09\n",
      "  5.34117285e-09]\n",
      " [5.43818445e-09 9.76227697e-01 2.37722873e-02 5.34117285e-09\n",
      "  5.34117285e-09]]\n",
      " \n"
     ]
    }
   ],
   "source": [
    "# Example code for simulated expected free energy precision (beta/gamma) updates\n",
    "# (associated with dopamine in the neural process theory)\n",
    "\n",
    "# Supplementary Code for: A Step-by-Step Tutorial on Active Inference Modelling and its \n",
    "# Application to Empirical Data\n",
    "\n",
    "# By: Ryan Smith, Karl J. Friston, Christopher J. Whyte\n",
    "# python adaption by Xaver Funk\n",
    "\n",
    "###########################################################################\n",
    "\n",
    "# EXPLANATIONS of terms see p. 18 in text\n",
    "\n",
    "# This script will reproduce the simulation results in Figure 9\n",
    "import numpy as np\n",
    "import matplotlib.pyplot as plt\n",
    "\n",
    "# Here you can set the number of policies and the distributions that\n",
    "# contribute to prior and posterior policy precision\n",
    "\n",
    "# inclusion or not of these terms E, F, gamma is a modeling decision\n",
    "E = np.ones(5)#[1 1 1 1 1]';                  # Set a fixed-form prior distribution \n",
    "                                              # over policies (habits)\n",
    "                            # reflecting number of times a policy has previously been chosen\n",
    "\n",
    "G = np.array([12.505, 9.51, 12.5034, 12.505, 12.505])#';     # Set an example expected \n",
    "                                              # expected free energy distribution over policies\n",
    "\n",
    "F = np.array([17.0207, 1.7321, 1.7321, 17.0387, 17.0387])#'; # Set an example variational \n",
    "                                              # free energy distribution over \n",
    "                                              # policies after a new observation\n",
    "        # the observation is consistent with the policies that got higher values\n",
    "\n",
    "\n",
    "gamma_0 = 1                 # Starting expected free energy precision value\n",
    "psi = 2                     # Step size parameter (promotes stable convergence) \n",
    "n_updates = 16\n",
    "\n",
    "gamma_dopamine = np.zeros((n_updates))\n",
    "policies_neural = np.zeros((len(G), n_updates))\n",
    "\n",
    "def EFE_precision_updating(E_0, G_0, F_o, gamma_0, psi = 2, n_updates = 16):\n",
    "    # see page 20 in paper for explanation of these eq's\n",
    "    \n",
    "    gamma = gamma_0             # Initial expected free energy precision to be updated\n",
    "    beta_prior = 1/gamma        # Initial prior on expected free energy precision gamma, a rate parameter on a Gamma dist with shape param = 1\n",
    "    beta_posterior = beta_prior # Initial posterior on expected free energy precision gamma, a rate parameter on a Gamma dist\n",
    "    # Expected value of gamma is reciprocal of beta\n",
    "    \n",
    "    gamma_dopamine = np.zeros((n_updates))\n",
    "    policies_neural = np.zeros((len(G), n_updates))\n",
    "    \n",
    "    for ni in range(n_updates):# = 1:16 # number of variational updates (16)\n",
    "\n",
    "        # calculate prior and posterior over policies (see main text for \n",
    "        # explanation of equations) \n",
    "\n",
    "        pi_0 = np.exp(np.log(E) - gamma*G)/sum(np.exp(np.log(E) - gamma*G)); # prior over policies (softmax)\n",
    "\n",
    "        pi_posterior = np.exp(np.log(E) - gamma*G - F)/sum(np.exp(np.log(E) - gamma*G - F)); # posterior \n",
    "                                                                                 # over policies (softmax)\n",
    "        # calculate expected free energy precision \n",
    "        G_error = (pi_posterior - pi_0)@-G; # expected free energy prediction error\n",
    "\n",
    "        beta_update = beta_posterior - beta_prior + G_error; # change in beta:  \n",
    "                                                             # gradient of F with respect to gamma \n",
    "                                                             # (recall gamma = 1/beta)\n",
    "\n",
    "        beta_posterior = beta_posterior - beta_update/psi; # update posterior precision \n",
    "                                                       # estimate (with step size of psi = 2, which reduces \n",
    "                                                       # the magnitude of each update and can promote \n",
    "                                                       # stable convergence)\n",
    "\n",
    "        gamma = 1/beta_posterior; # update expected free energy precision # Expected value of gamma is reciprocal of beta\n",
    "\n",
    "\n",
    "        # simulate dopamine responses\n",
    "\n",
    "        n = ni;\n",
    "\n",
    "        gamma_dopamine[n] = gamma; # simulated neural encoding of precision\n",
    "                                     # (beta_posterior^-1) at each iteration of \n",
    "                                     # variational updating                                 \n",
    "\n",
    "        policies_neural[:, n] = pi_posterior; # neural encoding of posterior over policies at \n",
    "                                             # each iteration of variational updating\n",
    "\n",
    "    return gamma_dopamine, policies_neural\n",
    "\n",
    "gamma_dopamine, policies_neural = EFE_precision_updating(E, G, F, gamma_0)\n",
    "    \n",
    "def plot_EFE_updating(gamma_dopamine, policies_neural = None):\n",
    "    ## Show Results\n",
    "\n",
    "    print(' ');\n",
    "    print('Final Policy Prior:');\n",
    "    print(pi_0);\n",
    "    print(' ');\n",
    "    print('Final Policy Posterior:');\n",
    "    print(pi_posterior);\n",
    "    print(' ');\n",
    "    print('Final Policy Difference Vector:');\n",
    "    print(pi_posterior-pi_0);\n",
    "    print(' ');\n",
    "    print('Negative Expected Free Energy:');\n",
    "    print(-G);\n",
    "    print(' ');\n",
    "    print('Prior G Precision (Prior Gamma):');\n",
    "    print(gamma_0);\n",
    "    print(' ');\n",
    "    print('Posterior G Precision (Gamma):');\n",
    "    print(gamma);\n",
    "    print(' ');\n",
    "\n",
    "    gamma_dopamine_plot = np.hstack((np.ones((3, )),gamma_dopamine)) # include prior value\n",
    "\n",
    "    plt.figure()\n",
    "    plt.plot(gamma_dopamine_plot);\n",
    "    plt.ylim([np.min(gamma_dopamine_plot)-.05, np.max(gamma_dopamine_plot)+.05])\n",
    "    plt.title('Expected Free Energy Precision (Tonic Dopamine)');\n",
    "    plt.xlabel('Updates');\n",
    "    plt.ylabel('$\\gamma$');\n",
    "\n",
    "    plt.figure()\n",
    "    plt.plot(np.gradient(gamma_dopamine_plot),'r');\n",
    "    plt.ylim([np.min(np.gradient(gamma_dopamine_plot))-.01, np.max(np.gradient(gamma_dopamine_plot))+.01])\n",
    "    plt.title('Rate of Change in Precision (Phasic Dopamine)');\n",
    "    plt.xlabel('Updates');\n",
    "    plt.ylabel('$\\gamma$ gradient');\n",
    "    plt.show()\n",
    "    # uncomment if you want to printlay/plot firing rates encoding beliefs about each\n",
    "    \n",
    "    if policies_neural is not None:\n",
    "\n",
    "        # policy (columns = policies, rows = updates over time)\n",
    "        plt.clf()\n",
    "        plt.plot(policies_neural);\n",
    "        plt.show()\n",
    "        print('Firing rates encoding beliefs over policies:');\n",
    "        print(policies_neural.T);\n",
    "        print(' ');\n",
    "\n",
    "plot_EFE_updating(gamma_dopamine, policies_neural)"
   ]
  },
  {
   "cell_type": "code",
   "execution_count": 30,
   "id": "5d89a74d",
   "metadata": {},
   "outputs": [
    {
     "name": "stdout",
     "output_type": "stream",
     "text": [
      " \n",
      "Final Policy Prior:\n",
      "[0.02214869 0.91136123 0.02219271 0.02214869 0.02214869]\n",
      " \n",
      "Final Policy Posterior:\n",
      "[5.43818445e-09 9.76227697e-01 2.37722873e-02 5.34117285e-09\n",
      " 5.34117285e-09]\n",
      " \n",
      "Final Policy Difference Vector:\n",
      "[-0.02214868  0.06486647  0.00157957 -0.02214868 -0.02214868]\n",
      " \n",
      "Negative Expected Free Energy:\n",
      "[-12.505   -9.51   -12.5034 -12.505  -12.505 ]\n",
      " \n",
      "Prior G Precision (Prior Gamma):\n",
      "1\n",
      " \n",
      "Posterior G Precision (Gamma):\n",
      "1.2411222533214157\n",
      " \n"
     ]
    },
    {
     "data": {
      "image/png": "[encoded data removed]",
      "text/plain": [
       "<Figure size 432x288 with 1 Axes>"
      ]
     },
     "metadata": {
      "needs_background": "light"
     },
     "output_type": "display_data"
    },
    {
     "data": {
      "image/png": "[encoded data removed]",
      "text/plain": [
       "<Figure size 432x288 with 1 Axes>"
      ]
     },
     "metadata": {
      "needs_background": "light"
     },
     "output_type": "display_data"
    },
    {
     "data": {
      "image/png": "[encoded data removed]",
      "text/plain": [
       "<Figure size 432x288 with 1 Axes>"
      ]
     },
     "metadata": {
      "needs_background": "light"
     },
     "output_type": "display_data"
    },
    {
     "name": "stdout",
     "output_type": "stream",
     "text": [
      "Firing rates encoding beliefs over policies:\n",
      "[[1.09218400e-08 9.52275038e-01 4.77249298e-02 1.07270057e-08\n",
      "  1.07270057e-08]\n",
      " [5.83400750e-09 9.74498390e-01 2.55015928e-02 5.72993483e-09\n",
      "  5.72993483e-09]\n",
      " [5.47683893e-09 9.76058816e-01 2.39411673e-02 5.37913778e-09\n",
      "  5.37913778e-09]\n",
      " [5.44211725e-09 9.76210514e-01 2.37894696e-02 5.34503550e-09\n",
      "  5.34503550e-09]\n",
      " [5.43858625e-09 9.76225941e-01 2.37740427e-02 5.34156748e-09\n",
      "  5.34156748e-09]\n",
      " [5.43822552e-09 9.76227517e-01 2.37724667e-02 5.34121319e-09\n",
      "  5.34121319e-09]\n",
      " [5.43818865e-09 9.76227678e-01 2.37723056e-02 5.34117698e-09\n",
      "  5.34117698e-09]\n",
      " [5.43818488e-09 9.76227695e-01 2.37722891e-02 5.34117327e-09\n",
      "  5.34117327e-09]\n",
      " [5.43818449e-09 9.76227696e-01 2.37722875e-02 5.34117290e-09\n",
      "  5.34117290e-09]\n",
      " [5.43818445e-09 9.76227697e-01 2.37722873e-02 5.34117286e-09\n",
      "  5.34117286e-09]\n",
      " [5.43818445e-09 9.76227697e-01 2.37722873e-02 5.34117285e-09\n",
      "  5.34117285e-09]\n",
      " [5.43818445e-09 9.76227697e-01 2.37722873e-02 5.34117285e-09\n",
      "  5.34117285e-09]\n",
      " [5.43818445e-09 9.76227697e-01 2.37722873e-02 5.34117285e-09\n",
      "  5.34117285e-09]\n",
      " [5.43818445e-09 9.76227697e-01 2.37722873e-02 5.34117285e-09\n",
      "  5.34117285e-09]\n",
      " [5.43818445e-09 9.76227697e-01 2.37722873e-02 5.34117285e-09\n",
      "  5.34117285e-09]\n",
      " [5.43818445e-09 9.76227697e-01 2.37722873e-02 5.34117285e-09\n",
      "  5.34117285e-09]]\n",
      " \n"
     ]
    }
   ],
   "source": [
    "import numpy as np\n",
    "import matplotlib.pyplot as plt\n",
    "\n",
    "# Here you can set the number of policies and the distributions that\n",
    "# contribute to prior and posterior policy precision\n",
    "\n",
    "# inclusion or not of these terms E, F, gamma is a modeling decision\n",
    "E = np.ones(5)#[1 1 1 1 1]';                  # Set a fixed-form prior distribution \n",
    "                                              # over policies (habits)\n",
    "                            # reflecting number of times a policy has previously been chosen\n",
    "\n",
    "G = np.array([12.505, 9.51, 12.5034, 12.505, 12.505])#';     # Set an example expected \n",
    "                                              # expected free energy distribution over policies\n",
    "\n",
    "F = np.array([17.0207, 1.7321, 1.7321, 17.0387, 17.0387])#'; # Set an example variational \n",
    "                                              # free energy distribution over \n",
    "                                              # policies after a new observation\n",
    "        # the observation is consistent with the policies that got higher values\n",
    "\n",
    "\n",
    "gamma_0 = 1                 # Starting expected free energy precision value\n",
    "psi = 2                     # Step size parameter (promotes stable convergence) \n",
    "n_updates = 16\n",
    "\n",
    "gamma_dopamine = np.zeros((n_updates))\n",
    "policies_neural = np.zeros((len(G), n_updates))\n",
    "\n",
    "# do updating\n",
    "gamma_dopamine, policies_neural = EFE_precision_updating(E, G, F, gamma_0, psi, n_updates)\n",
    "# do plotting\n",
    "plot_EFE_updating(gamma_dopamine, policies_neural)"
   ]
  },
  {
   "cell_type": "code",
   "execution_count": 5,
   "id": "b2545a53",
   "metadata": {},
   "outputs": [
    {
     "data": {
      "text/plain": [
       "array([0.97958098, 1.06332022, 1.00299336, 0.97958097, 0.97958097])"
      ]
     },
     "execution_count": 5,
     "metadata": {},
     "output_type": "execute_result"
    }
   ],
   "source": [
    "gamma"
   ]
  },
  {
   "cell_type": "code",
   "execution_count": 18,
   "id": "6e8da128",
   "metadata": {},
   "outputs": [
    {
     "data": {
      "text/plain": [
       "array([[1.        , 1.        , 1.        , 1.        , 1.        ],\n",
       "       [1.        , 1.        , 1.        , 1.        , 1.        ],\n",
       "       [1.        , 1.        , 1.        , 1.        , 1.        ],\n",
       "       [0.97958098, 1.06332022, 1.00299336, 0.97958097, 0.97958097],\n",
       "       [0.95118471, 1.1662207 , 1.01156437, 0.95118471, 0.95118471],\n",
       "       [0.8982256 , 1.40536184, 1.05427258, 0.8982256 , 0.8982256 ],\n",
       "       [0.82645491, 1.546156  , 1.38260457, 0.8264549 , 0.8264549 ],\n",
       "       [0.78684474, 2.77302751, 1.2096481 , 0.78684463, 0.78684463],\n",
       "       [0.76815989, 1.46993577, 2.41394397, 0.76815947, 0.76815947],\n",
       "       [0.75937898, 2.92166323, 1.4141674 , 0.75937818, 0.75937818],\n",
       "       [0.75490361, 1.49005765, 2.81810509, 0.7548981 , 0.7548981 ],\n",
       "       [0.7527323 , 2.96681205, 1.47617995, 0.75272294, 0.75272294],\n",
       "       [0.75192001, 1.49588118, 2.92721303, 0.75189464, 0.75189464],\n",
       "       [0.75123797, 2.97947255, 1.490733  , 0.75119542, 0.75119542],\n",
       "       [0.75131926, 1.49748936, 2.95032479, 0.75123641, 0.75123641],\n",
       "       [0.75097735, 2.98292665, 1.49371252, 0.75083874, 0.75083874],\n",
       "       [0.75129135, 1.49792553, 2.95488679, 0.75104788, 0.75104788],\n",
       "       [0.75108749, 2.98385722, 1.49429652, 0.7506805 , 0.7506805 ],\n",
       "       [0.75156084, 1.49804273, 2.95577264, 0.75086997, 0.75086997]])"
      ]
     },
     "execution_count": 18,
     "metadata": {},
     "output_type": "execute_result"
    }
   ],
   "source": [
    "#gamma_dopamine_plot = [gamma_0;gamma_0;gamma_0;gamma_dopamine]; # Include prior value\n",
    "np.vstack((np.ones((3, 5)),gamma_dopamine))"
   ]
  }
 ],
 "metadata": {
  "kernelspec": {
   "display_name": "Python 3 (ipykernel)",
   "language": "python",
   "name": "python3"
  },
  "language_info": {
   "codemirror_mode": {
    "name": "ipython",
    "version": 3
   },
   "file_extension": ".py",
   "mimetype": "text/x-python",
   "name": "python",
   "nbconvert_exporter": "python",
   "pygments_lexer": "ipython3",
   "version": "3.9.7"
  }
 },
 "nbformat": 4,
 "nbformat_minor": 5
}
